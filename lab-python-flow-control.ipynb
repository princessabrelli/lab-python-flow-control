{
 "cells": [
  {
   "cell_type": "markdown",
   "id": "d3bfc191-8885-42ee-b0a0-bbab867c6f9f",
   "metadata": {
    "tags": []
   },
   "source": [
    "# Lab | Flow Control"
   ]
  },
  {
   "cell_type": "markdown",
   "id": "3851fcd1-cf98-4653-9c89-e003b7ec9400",
   "metadata": {},
   "source": [
    "## Exercise: Managing Customer Orders Optimized\n",
    "\n",
    "In the last lab, you were starting an online store that sells various products. To ensure smooth operations, you developed a program that manages customer orders and inventory.\n",
    "\n",
    "You did so without using flow control. Let's go a step further and improve this code.\n",
    "\n",
    "Follow the steps below to complete the exercise:\n",
    "\n",
    "1. Look at your code from the lab data structures, and improve repeated code with loops.\n",
    "\n",
    "2. Instead of asking the user to input the name of three products that a customer wants to order, do the following:\n",
    "    \n",
    "    a. Prompt the user to enter the name of a product that a customer wants to order.\n",
    "    \n",
    "    b. Add the product name to the \"customer_orders\" set.\n",
    "    \n",
    "    c. Ask the user if they want to add another product (yes/no).\n",
    "    \n",
    "    d. Continue the loop until the user does not want to add another product.\n",
    "\n",
    "3. Instead of updating the inventory by subtracting 1 from the quantity of each product, only do it for  the products that were ordered (those in \"customer_orders\")."
   ]
  },
  {
   "cell_type": "code",
   "execution_count": 1,
   "id": "83ce1e87",
   "metadata": {},
   "outputs": [
    {
     "name": "stdout",
     "output_type": "stream",
     "text": [
      "Enter the quantity of t-shirt: 12\n",
      "Enter the quantity of mug: 6\n",
      "Enter the quantity of hat: 7\n",
      "Enter the quantity of book: 8\n",
      "Enter the quantity of keychain: 8\n",
      "\n",
      "Inventory:\n",
      "t-shirt: 12\n",
      "mug: 6\n",
      "hat: 7\n",
      "book: 8\n",
      "keychain: 8\n",
      "\n",
      "Enter the name of the product you want to order (choose from t-shirt, mug, hat, book, keychain): mug\n",
      "Do you want to add another product? (yes/no): book\n",
      "\n",
      "Customer Orders:\n",
      "mug\n",
      "\n",
      "Updated Inventory:\n",
      "t-shirt: 12\n",
      "mug: 5\n",
      "hat: 7\n",
      "book: 8\n",
      "keychain: 8\n"
     ]
    }
   ],
   "source": [
    "product_list = [\"t-shirt\", \"mug\", \"hat\", \"book\", \"keychain\"]  # create product list\n",
    "inventory = {}  # create empty dictionary\n",
    "\n",
    "# ask user to input the quantity of each product\n",
    "for product in product_list:\n",
    "    quantity = input(f\"Enter the quantity of {product}: \")\n",
    "    # convert quantity to integer\n",
    "    inventory[product] = int(quantity)\n",
    "\n",
    "# Display inventory\n",
    "print(\"\\nInventory:\")\n",
    "for product, quantity in inventory.items():\n",
    "    print(f\"{product}: {quantity}\")\n",
    "\n",
    "# Create an empty set to store customer orders\n",
    "customer_orders = set()\n",
    "\n",
    "# Prompt user to enter product names until they don't want to add more\n",
    "while True:\n",
    "    product = input(f\"\\nEnter the name of the product you want to order (choose from {', '.join(product_list)}): \")\n",
    "    if product in product_list:\n",
    "        customer_orders.add(product)\n",
    "    else:\n",
    "        print(\"Invalid product!\")\n",
    "\n",
    "    another_product = input(\"Do you want to add another product? (yes/no): \")\n",
    "    if another_product.lower() != 'yes':\n",
    "        break\n",
    "\n",
    "# Display the customer orders\n",
    "print(\"\\nCustomer Orders:\")\n",
    "for order in customer_orders:\n",
    "    print(order)\n",
    "\n",
    "# Update the inventory for the products that were ordered\n",
    "for product in customer_orders:\n",
    "    inventory[product] -= 1\n",
    "\n",
    "# Display the updated inventory\n",
    "print(\"\\nUpdated Inventory:\")\n",
    "for product, quantity in inventory.items():\n",
    "    print(f\"{product}: {quantity}\")\n"
   ]
  },
  {
   "cell_type": "code",
   "execution_count": null,
   "id": "74cb07c1",
   "metadata": {},
   "outputs": [],
   "source": []
  },
  {
   "cell_type": "code",
   "execution_count": null,
   "id": "28e19806",
   "metadata": {},
   "outputs": [],
   "source": []
  }
 ],
 "metadata": {
  "kernelspec": {
   "display_name": "Python 3 (ipykernel)",
   "language": "python",
   "name": "python3"
  },
  "language_info": {
   "codemirror_mode": {
    "name": "ipython",
    "version": 3
   },
   "file_extension": ".py",
   "mimetype": "text/x-python",
   "name": "python",
   "nbconvert_exporter": "python",
   "pygments_lexer": "ipython3",
   "version": "3.11.7"
  }
 },
 "nbformat": 4,
 "nbformat_minor": 5
}
